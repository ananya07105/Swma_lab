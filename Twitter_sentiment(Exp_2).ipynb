{
  "nbformat": 4,
  "nbformat_minor": 0,
  "metadata": {
    "colab": {
      "name": "Twitter_sentiment(Exp-2)",
      "provenance": [],
      "collapsed_sections": [],
      "authorship_tag": "ABX9TyMX8BZqd2hRM+hx6kE0Ijjp",
      "include_colab_link": true
    },
    "kernelspec": {
      "name": "python3",
      "display_name": "Python 3"
    },
    "language_info": {
      "name": "python"
    }
  },
  "cells": [
    {
      "cell_type": "markdown",
      "metadata": {
        "id": "view-in-github",
        "colab_type": "text"
      },
      "source": [
        "<a href=\"https://colab.research.google.com/github/ananya07105/Swma_lab/blob/main/Twitter_sentiment(Exp_2).ipynb\" target=\"_parent\"><img src=\"https://colab.research.google.com/assets/colab-badge.svg\" alt=\"Open In Colab\"/></a>"
      ]
    },
    {
      "cell_type": "code",
      "source": [
        "import tweepy\n",
        "import pandas as pd"
      ],
      "metadata": {
        "id": "DHDD8ZJoTTgd"
      },
      "execution_count": null,
      "outputs": []
    },
    {
      "cell_type": "code",
      "execution_count": null,
      "metadata": {
        "id": "kE3TwVbxSJBL"
      },
      "outputs": [],
      "source": [
        "consumer_key=\"CR3oAVsAax9dfOrWGCgcfeTWk\"\n",
        "consumer_secret=\"B793cNTunhZ3wwMkm8Upi208KmXKkuQD6yGhgC9bJD2yuQBMFQ\"\n",
        "access_token=\"1493170422762045440-TPsRwULM91tI4Tgl4LJq6c2D7yOWVW\"\n",
        "access_token_secret=\"QHGanqoBnItORIABJZpPRfPw3klbQZSJ4DsELpdGirdqg\""
      ]
    },
    {
      "cell_type": "code",
      "source": [
        "auth = tweepy.OAuthHandler(consumer_key,consumer_secret)\n",
        "auth.set_access_token(access_token,access_token_secret)\n",
        "api = tweepy.API(auth,wait_on_rate_limit=True, wait_on_rate_limit_notify=True)"
      ],
      "metadata": {
        "id": "VEUnuzSGZe7M"
      },
      "execution_count": null,
      "outputs": []
    },
    {
      "cell_type": "code",
      "source": [
        "cursor=tweepy.Cursor(api.user_timeline,id='vickykaushal09',tweet_mode=\"extended\").items(1)"
      ],
      "metadata": {
        "id": "iCA67AtliQH9"
      },
      "execution_count": null,
      "outputs": []
    },
    {
      "cell_type": "code",
      "source": [
        "for i in cursor:\n",
        "  print(i.full_text)"
      ],
      "metadata": {
        "id": "ZQheNb7JbniA",
        "colab": {
          "base_uri": "https://localhost:8080/"
        },
        "outputId": "4dbe62f1-f0c1-4d00-9840-c149c9b732a9"
      },
      "execution_count": null,
      "outputs": [
        {
          "output_type": "stream",
          "name": "stdout",
          "text": [
            "RT @mybmc: #VaccinationUpdate   \n",
            "\n",
            "Here’s a list of all MCGM, Government &amp; Private CVCs that will be functional today (27 Apr, 2021).\n",
            "\n",
            "#MyBM…\n"
          ]
        }
      ]
    },
    {
      "cell_type": "code",
      "source": [
        "number_of_tweets = 200\n",
        "tweets = []\n",
        "likes = []\n",
        "time = []\n",
        "\n",
        "for i in tweepy.Cursor(api.user_timeline, id='vickykaushal09', tweet_mode=\"extended\").items(number_of_tweets):\n",
        "  tweets.append(i.full_text)\n",
        "  likes.append(i.favorite_count)\n",
        "  time.append(i.created_at)"
      ],
      "metadata": {
        "id": "EcGt771gPg8y"
      },
      "execution_count": null,
      "outputs": []
    },
    {
      "cell_type": "code",
      "source": [
        "posts=api.user_timeline(screen_name=\"vickykaushal09\", count=100,lang=\"en\",tweet_mode=\"extended\")\n",
        "#to display the first 5 tweets posted by the user \n",
        "i=1\n",
        "for tweet in posts[0:5]:\n",
        "  print(str(i)+'.'+' '+tweet.full_text + '\\n')\n",
        "  i=i+1"
      ],
      "metadata": {
        "colab": {
          "base_uri": "https://localhost:8080/"
        },
        "id": "NPWzF0UQP4gL",
        "outputId": "268f12d8-ccf9-4c9c-cd63-87b1dc6fea67"
      },
      "execution_count": null,
      "outputs": [
        {
          "output_type": "stream",
          "name": "stdout",
          "text": [
            "1. RT @mybmc: #VaccinationUpdate   \n",
            "\n",
            "Here’s a list of all MCGM, Government &amp; Private CVCs that will be functional today (27 Apr, 2021).\n",
            "\n",
            "#MyBM…\n",
            "\n",
            "2. Overwhelmed and ecstatic ! \n",
            "On the 2nd anniversary of 'URI-The Surgical Strike' , the team gives you a glimpse into the world of #TheImmortalAshwatthama\n",
            "Cannot wait to get onto this journey with the dream team of @AdityaDharFilms @RonnieScrewvala @RSVPMovies @soniakanwar22 https://t.co/tYOVQ4FG1P\n",
            "\n",
            "3. Wishing our honourable Prime Minister Shri @narendramodi Ji on the occasion of his 70th birthday  many happy returns of the day. @PMOIndia 🙏\n",
            "\n",
            "4. RT @MumbaiFilmFest: One more engineer turned successful new age actor.\n",
            "Tune in to our session of #DialMForFilms where @vickykaushal09 is in…\n",
            "\n",
            "5. Love this! https://t.co/vAEbhn3tTG\n",
            "\n"
          ]
        }
      ]
    },
    {
      "cell_type": "code",
      "source": [
        "#create a dataframe with a column named 'Tweets'\n",
        "df=pd.DataFrame([tweet.full_text for tweet in posts], columns=['Tweets'])\n",
        "df"
      ],
      "metadata": {
        "colab": {
          "base_uri": "https://localhost:8080/",
          "height": 423
        },
        "id": "as6kixkiQErH",
        "outputId": "fafac416-d002-437f-e0c4-df873b7da80b"
      },
      "execution_count": null,
      "outputs": [
        {
          "output_type": "execute_result",
          "data": {
            "text/plain": [
              "                                               Tweets\n",
              "0   RT @mybmc: #VaccinationUpdate   \\n\\nHere’s a l...\n",
              "1   Overwhelmed and ecstatic ! \\nOn the 2nd annive...\n",
              "2   Wishing our honourable Prime Minister Shri @na...\n",
              "3   RT @MumbaiFilmFest: One more engineer turned s...\n",
              "4                  Love this! https://t.co/vAEbhn3tTG\n",
              "..                                                ...\n",
              "95  RT @TSeries: A song for the broken heart has c...\n",
              "96  Feel so happy sharing this! My little brother ...\n",
              "97  RT @karanjohar: The tides have changed!!! Even...\n",
              "98  RT @IndiaToday: Get up close &amp; personal wi...\n",
              "99                       #भूत https://t.co/qbKbMx61Pn\n",
              "\n",
              "[100 rows x 1 columns]"
            ],
            "text/html": [
              "\n",
              "  <div id=\"df-0b0bf520-9128-46cf-b5a2-0eb2b8b75940\">\n",
              "    <div class=\"colab-df-container\">\n",
              "      <div>\n",
              "<style scoped>\n",
              "    .dataframe tbody tr th:only-of-type {\n",
              "        vertical-align: middle;\n",
              "    }\n",
              "\n",
              "    .dataframe tbody tr th {\n",
              "        vertical-align: top;\n",
              "    }\n",
              "\n",
              "    .dataframe thead th {\n",
              "        text-align: right;\n",
              "    }\n",
              "</style>\n",
              "<table border=\"1\" class=\"dataframe\">\n",
              "  <thead>\n",
              "    <tr style=\"text-align: right;\">\n",
              "      <th></th>\n",
              "      <th>Tweets</th>\n",
              "    </tr>\n",
              "  </thead>\n",
              "  <tbody>\n",
              "    <tr>\n",
              "      <th>0</th>\n",
              "      <td>RT @mybmc: #VaccinationUpdate   \\n\\nHere’s a l...</td>\n",
              "    </tr>\n",
              "    <tr>\n",
              "      <th>1</th>\n",
              "      <td>Overwhelmed and ecstatic ! \\nOn the 2nd annive...</td>\n",
              "    </tr>\n",
              "    <tr>\n",
              "      <th>2</th>\n",
              "      <td>Wishing our honourable Prime Minister Shri @na...</td>\n",
              "    </tr>\n",
              "    <tr>\n",
              "      <th>3</th>\n",
              "      <td>RT @MumbaiFilmFest: One more engineer turned s...</td>\n",
              "    </tr>\n",
              "    <tr>\n",
              "      <th>4</th>\n",
              "      <td>Love this! https://t.co/vAEbhn3tTG</td>\n",
              "    </tr>\n",
              "    <tr>\n",
              "      <th>...</th>\n",
              "      <td>...</td>\n",
              "    </tr>\n",
              "    <tr>\n",
              "      <th>95</th>\n",
              "      <td>RT @TSeries: A song for the broken heart has c...</td>\n",
              "    </tr>\n",
              "    <tr>\n",
              "      <th>96</th>\n",
              "      <td>Feel so happy sharing this! My little brother ...</td>\n",
              "    </tr>\n",
              "    <tr>\n",
              "      <th>97</th>\n",
              "      <td>RT @karanjohar: The tides have changed!!! Even...</td>\n",
              "    </tr>\n",
              "    <tr>\n",
              "      <th>98</th>\n",
              "      <td>RT @IndiaToday: Get up close &amp;amp; personal wi...</td>\n",
              "    </tr>\n",
              "    <tr>\n",
              "      <th>99</th>\n",
              "      <td>#भूत https://t.co/qbKbMx61Pn</td>\n",
              "    </tr>\n",
              "  </tbody>\n",
              "</table>\n",
              "<p>100 rows × 1 columns</p>\n",
              "</div>\n",
              "      <button class=\"colab-df-convert\" onclick=\"convertToInteractive('df-0b0bf520-9128-46cf-b5a2-0eb2b8b75940')\"\n",
              "              title=\"Convert this dataframe to an interactive table.\"\n",
              "              style=\"display:none;\">\n",
              "        \n",
              "  <svg xmlns=\"http://www.w3.org/2000/svg\" height=\"24px\"viewBox=\"0 0 24 24\"\n",
              "       width=\"24px\">\n",
              "    <path d=\"M0 0h24v24H0V0z\" fill=\"none\"/>\n",
              "    <path d=\"M18.56 5.44l.94 2.06.94-2.06 2.06-.94-2.06-.94-.94-2.06-.94 2.06-2.06.94zm-11 1L8.5 8.5l.94-2.06 2.06-.94-2.06-.94L8.5 2.5l-.94 2.06-2.06.94zm10 10l.94 2.06.94-2.06 2.06-.94-2.06-.94-.94-2.06-.94 2.06-2.06.94z\"/><path d=\"M17.41 7.96l-1.37-1.37c-.4-.4-.92-.59-1.43-.59-.52 0-1.04.2-1.43.59L10.3 9.45l-7.72 7.72c-.78.78-.78 2.05 0 2.83L4 21.41c.39.39.9.59 1.41.59.51 0 1.02-.2 1.41-.59l7.78-7.78 2.81-2.81c.8-.78.8-2.07 0-2.86zM5.41 20L4 18.59l7.72-7.72 1.47 1.35L5.41 20z\"/>\n",
              "  </svg>\n",
              "      </button>\n",
              "      \n",
              "  <style>\n",
              "    .colab-df-container {\n",
              "      display:flex;\n",
              "      flex-wrap:wrap;\n",
              "      gap: 12px;\n",
              "    }\n",
              "\n",
              "    .colab-df-convert {\n",
              "      background-color: #E8F0FE;\n",
              "      border: none;\n",
              "      border-radius: 50%;\n",
              "      cursor: pointer;\n",
              "      display: none;\n",
              "      fill: #1967D2;\n",
              "      height: 32px;\n",
              "      padding: 0 0 0 0;\n",
              "      width: 32px;\n",
              "    }\n",
              "\n",
              "    .colab-df-convert:hover {\n",
              "      background-color: #E2EBFA;\n",
              "      box-shadow: 0px 1px 2px rgba(60, 64, 67, 0.3), 0px 1px 3px 1px rgba(60, 64, 67, 0.15);\n",
              "      fill: #174EA6;\n",
              "    }\n",
              "\n",
              "    [theme=dark] .colab-df-convert {\n",
              "      background-color: #3B4455;\n",
              "      fill: #D2E3FC;\n",
              "    }\n",
              "\n",
              "    [theme=dark] .colab-df-convert:hover {\n",
              "      background-color: #434B5C;\n",
              "      box-shadow: 0px 1px 3px 1px rgba(0, 0, 0, 0.15);\n",
              "      filter: drop-shadow(0px 1px 2px rgba(0, 0, 0, 0.3));\n",
              "      fill: #FFFFFF;\n",
              "    }\n",
              "  </style>\n",
              "\n",
              "      <script>\n",
              "        const buttonEl =\n",
              "          document.querySelector('#df-0b0bf520-9128-46cf-b5a2-0eb2b8b75940 button.colab-df-convert');\n",
              "        buttonEl.style.display =\n",
              "          google.colab.kernel.accessAllowed ? 'block' : 'none';\n",
              "\n",
              "        async function convertToInteractive(key) {\n",
              "          const element = document.querySelector('#df-0b0bf520-9128-46cf-b5a2-0eb2b8b75940');\n",
              "          const dataTable =\n",
              "            await google.colab.kernel.invokeFunction('convertToInteractive',\n",
              "                                                     [key], {});\n",
              "          if (!dataTable) return;\n",
              "\n",
              "          const docLinkHtml = 'Like what you see? Visit the ' +\n",
              "            '<a target=\"_blank\" href=https://colab.research.google.com/notebooks/data_table.ipynb>data table notebook</a>'\n",
              "            + ' to learn more about interactive tables.';\n",
              "          element.innerHTML = '';\n",
              "          dataTable['output_type'] = 'display_data';\n",
              "          await google.colab.output.renderOutput(dataTable, element);\n",
              "          const docLink = document.createElement('div');\n",
              "          docLink.innerHTML = docLinkHtml;\n",
              "          element.appendChild(docLink);\n",
              "        }\n",
              "      </script>\n",
              "    </div>\n",
              "  </div>\n",
              "  "
            ]
          },
          "metadata": {},
          "execution_count": 15
        }
      ]
    },
    {
      "cell_type": "code",
      "source": [
        ""
      ],
      "metadata": {
        "id": "Mkb-HE5gQaNP"
      },
      "execution_count": null,
      "outputs": []
    }
  ]
}